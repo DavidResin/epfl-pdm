{
 "cells": [
  {
   "cell_type": "code",
   "execution_count": 2,
   "metadata": {},
   "outputs": [],
   "source": [
    "import os, json, pprint, re\n",
    "from collections import defaultdict\n",
    "from matplotlib import pyplot as plt\n",
    "import pandas as pd"
   ]
  },
  {
   "cell_type": "code",
   "execution_count": 3,
   "metadata": {},
   "outputs": [
    {
     "data": {
      "text/plain": [
       "'C:\\\\Users\\\\david\\\\Projects\\\\epfl-pdm'"
      ]
     },
     "execution_count": 3,
     "metadata": {},
     "output_type": "execute_result"
    }
   ],
   "source": [
    "root_path = os.path.dirname(os.getcwd())\n",
    "root_path"
   ]
  },
  {
   "cell_type": "code",
   "execution_count": 4,
   "metadata": {},
   "outputs": [
    {
     "data": {
      "text/plain": [
       "'C:\\\\Users\\\\david\\\\Projects\\\\epfl-pdm\\\\data'"
      ]
     },
     "execution_count": 4,
     "metadata": {},
     "output_type": "execute_result"
    }
   ],
   "source": [
    "data_path = os.path.join(root_path, \"data\")\n",
    "data_path"
   ]
  },
  {
   "cell_type": "code",
   "execution_count": 5,
   "metadata": {},
   "outputs": [
    {
     "data": {
      "text/plain": [
       "'C:\\\\Users\\\\david\\\\Projects\\\\epfl-pdm\\\\data\\\\raw'"
      ]
     },
     "execution_count": 5,
     "metadata": {},
     "output_type": "execute_result"
    }
   ],
   "source": [
    "raw_path = os.path.join(data_path, \"raw\")\n",
    "raw_path"
   ]
  },
  {
   "cell_type": "code",
   "execution_count": 6,
   "metadata": {},
   "outputs": [
    {
     "data": {
      "text/plain": [
       "'C:\\\\Users\\\\david\\\\Projects\\\\epfl-pdm\\\\data\\\\clean'"
      ]
     },
     "execution_count": 6,
     "metadata": {},
     "output_type": "execute_result"
    }
   ],
   "source": [
    "clean_path = os.path.join(data_path, \"clean\")\n",
    "clean_path"
   ]
  },
  {
   "cell_type": "code",
   "execution_count": 7,
   "metadata": {},
   "outputs": [
    {
     "data": {
      "text/plain": [
       "['Gr1', 'Gr2', 'Gr3', 'Gr4', 'Gr5']"
      ]
     },
     "execution_count": 7,
     "metadata": {},
     "output_type": "execute_result"
    }
   ],
   "source": [
    "group_paths = os.listdir(raw_path)\n",
    "group_paths"
   ]
  },
  {
   "cell_type": "code",
   "execution_count": 8,
   "metadata": {},
   "outputs": [
    {
     "name": "stdout",
     "output_type": "stream",
     "text": [
      "['aufgabe1.log', 'aufgabe2.log', 'aufgabe3.log']\n",
      "['aufgabe1.log', 'aufgabe2.log', 'aufgabe3.log']\n",
      "['aufgabe1.log', 'aufgabe2.log', 'aufgabe3.log']\n",
      "['aufgabe1.log', 'aufgabe2.log', 'aufgabe3.log']\n",
      "['Aufgabe I + II.log', 'Aufgabe I.log', 'Aufgabe III.log']\n"
     ]
    }
   ],
   "source": [
    "for p in group_paths:\n",
    "    print(os.listdir(os.path.join(raw_path, p)))"
   ]
  },
  {
   "cell_type": "code",
   "execution_count": 9,
   "metadata": {},
   "outputs": [],
   "source": [
    "# Quickly replace multiple strings based on a dict\n",
    "def replace_all(string, table):\n",
    "    for k, v in table.items():\n",
    "        string = string.replace(k, v)\n",
    "    return string\n",
    "\n",
    "# Non tail-recursive flatten operation\n",
    "def flatten(entry):\n",
    "    children = entry.get(\"children\")\n",
    "    ret = [entry]\n",
    "    \n",
    "    if children:\n",
    "        entry.pop(\"children\")\n",
    "        \n",
    "        for c in children:\n",
    "            ret += flatten(c)\n",
    "            \n",
    "    return ret"
   ]
  },
  {
   "cell_type": "code",
   "execution_count": 10,
   "metadata": {},
   "outputs": [],
   "source": [
    "replacements = {\n",
    "    \"beers-law-lab_en-phetio.html?phetioStandalone&phetioLog=console:983 \": \"\\u200b\",\n",
    "    \"[Intervention] Unable to preventDefault inside passive event listener due to target being treated as passive. See <URL>\": \"\"\n",
    "}"
   ]
  },
  {
   "cell_type": "code",
   "execution_count": 11,
   "metadata": {
    "scrolled": true
   },
   "outputs": [
    {
     "name": "stdout",
     "output_type": "stream",
     "text": [
      "Raw entries in Gr1 aufgabe1.log : 1000\n",
      "\tFlattened entries : 2714\n",
      "Raw entries in Gr1 aufgabe2.log : 1000\n",
      "\tFlattened entries : 2595\n",
      "Raw entries in Gr1 aufgabe3.log : 1000\n",
      "\tFlattened entries : 2557\n",
      "Raw entries in Gr2 aufgabe1.log : 607\n",
      "\tFlattened entries : 1512\n",
      "Raw entries in Gr2 aufgabe2.log : 1000\n",
      "\tFlattened entries : 3200\n",
      "Raw entries in Gr2 aufgabe3.log : 1000\n",
      "\tFlattened entries : 3074\n",
      "Raw entries in Gr3 aufgabe1.log : 743\n",
      "\tFlattened entries : 1869\n",
      "Raw entries in Gr3 aufgabe2.log : 1000\n",
      "\tFlattened entries : 3025\n",
      "Raw entries in Gr3 aufgabe3.log : 510\n",
      "\tFlattened entries : 1393\n",
      "Raw entries in Gr4 aufgabe1.log : 1000\n",
      "\tFlattened entries : 3290\n",
      "Raw entries in Gr4 aufgabe2.log : 3302\n",
      "\tFlattened entries : 10333\n",
      "Raw entries in Gr4 aufgabe3.log : 4453\n",
      "\tDropped 1 invalid element\n",
      "\tFlattened entries : 13239\n",
      "Raw entries in Gr5 Aufgabe I + II.log : 1000\n",
      "\tFlattened entries : 2897\n",
      "Raw entries in Gr5 Aufgabe I.log : 880\n",
      "\tFlattened entries : 1970\n",
      "Raw entries in Gr5 Aufgabe III.log : 1000\n",
      "\tFlattened entries : 2526\n"
     ]
    }
   ],
   "source": [
    "data = {}\n",
    "\n",
    "for p in group_paths:\n",
    "    sub_data = {}\n",
    "    \n",
    "    sub_path = os.path.join(raw_path, p)\n",
    "    for i, sub_p in enumerate(os.listdir(sub_path)):\n",
    "        batch = []\n",
    "        \n",
    "        with open(os.path.join(sub_path, sub_p), \"r\", encoding=\"utf-8\") as f:\n",
    "            raw = replace_all(f.read(), replacements).split(\"\\u200b\")[1:]\n",
    "            print(\"Raw entries in\", p, sub_p, \":\", len(raw))\n",
    "            \n",
    "            for elem in raw:\n",
    "                try:\n",
    "                    batch += flatten(json.loads(elem))\n",
    "                except Exception as e:\n",
    "                    print(\"\\tDropped 1 invalid element\")\n",
    "                    \n",
    "            print(\"\\tFlattened entries :\", len(batch))\n",
    "        \n",
    "        sub_data[i] = batch\n",
    "        \n",
    "    data[p] = sub_data"
   ]
  },
  {
   "cell_type": "code",
   "execution_count": 12,
   "metadata": {},
   "outputs": [
    {
     "name": "stdout",
     "output_type": "stream",
     "text": [
      "Gr1 0 2714\n",
      "Gr1 1 2595\n",
      "Gr1 2 2557\n",
      "Gr2 0 1512\n",
      "Gr2 1 3200\n",
      "Gr2 2 3074\n",
      "Gr3 0 1869\n",
      "Gr3 1 3025\n",
      "Gr3 2 1393\n",
      "Gr4 0 3290\n",
      "Gr4 1 10333\n",
      "Gr4 2 13239\n",
      "Gr5 0 2897\n",
      "Gr5 1 1970\n",
      "Gr5 2 2526\n"
     ]
    }
   ],
   "source": [
    "for k in data.keys():\n",
    "    for k2 in data[k]:\n",
    "        print(k, k2, len(data[k][k2]))"
   ]
  },
  {
   "cell_type": "code",
   "execution_count": 13,
   "metadata": {},
   "outputs": [
    {
     "data": {
      "text/plain": [
       "{'TTandemDragHandler': 4159,\n",
       " 'TProperty': 3363,\n",
       " 'TRadioButton': 12,\n",
       " 'TTandemText': 2938,\n",
       " 'TDerivedProperty': 2486,\n",
       " 'TComboBox': 52,\n",
       " 'TToggleButton': 6,\n",
       " 'TPushButton': 223}"
      ]
     },
     "execution_count": 13,
     "metadata": {},
     "output_type": "execute_result"
    }
   ],
   "source": [
    "comps = {}\n",
    "\n",
    "for e in data[\"Gr4\"][2]:\n",
    "    ct = e[\"componentType\"]\n",
    "    comps[ct] = comps.get(ct, 0) + 1\n",
    "    \n",
    "comps"
   ]
  },
  {
   "cell_type": "code",
   "execution_count": 14,
   "metadata": {},
   "outputs": [
    {
     "name": "stdout",
     "output_type": "stream",
     "text": [
      "defaultdict(<class 'dict'>,\n",
      "            {'TComboBox': {'beersLawLab.beersLawScreen.view.solutionControls.comboBox': ['popupShown',\n",
      "                                                                                         'popupHidden',\n",
      "                                                                                         'fired']},\n",
      "             'TDerivedProperty': {'beersLawLab.beersLawScreen.model.detector.valueProperty': ['changed']},\n",
      "             'TProperty': {'beersLawLab.beersLawScreen.model.cuvette.widthProperty': ['changed'],\n",
      "                           'beersLawLab.beersLawScreen.model.detector.modeProperty': ['changed'],\n",
      "                           'beersLawLab.beersLawScreen.model.detector.probe.locationProperty': ['changed'],\n",
      "                           'beersLawLab.beersLawScreen.model.light.onProperty': ['changed'],\n",
      "                           'beersLawLab.beersLawScreen.model.light.wavelengthProperty': ['changed'],\n",
      "                           'beersLawLab.beersLawScreen.model.ruler.locationProperty': ['changed'],\n",
      "                           'beersLawLab.beersLawScreen.model.solutionProperty': ['changed'],\n",
      "                           'beersLawLab.beersLawScreen.solutions.cobaltChloride.concentrationProperty': ['changed'],\n",
      "                           'beersLawLab.beersLawScreen.solutions.cobaltIINitrate.concentrationProperty': ['changed'],\n",
      "                           'beersLawLab.beersLawScreen.solutions.copperSulfate.concentrationProperty': ['changed'],\n",
      "                           'beersLawLab.beersLawScreen.solutions.drinkMix.concentrationProperty': ['changed'],\n",
      "                           'beersLawLab.beersLawScreen.solutions.nickelIIChloride.concentrationProperty': ['changed'],\n",
      "                           'beersLawLab.beersLawScreen.solutions.potassiumChromate.concentrationProperty': ['changed'],\n",
      "                           'beersLawLab.beersLawScreen.solutions.potassiumDichromate.concentrationProperty': ['changed'],\n",
      "                           'beersLawLab.beersLawScreen.solutions.potassiumPermanganate.concentrationProperty': ['changed'],\n",
      "                           'beersLawLab.beersLawScreen.view.wavelengthControls.variableWavelengthProperty': ['changed'],\n",
      "                           'beersLawLab.sim.screenIndexProperty': ['changed'],\n",
      "                           'beersLawLab.sim.showHomeScreenProperty': ['changed']},\n",
      "             'TPushButton': {'beersLawLab.beersLawScreen.view.resetAllButton': ['fired'],\n",
      "                             'beersLawLab.beersLawScreen.view.solutionControls.concentrationControl.slider.minusButton': ['fired'],\n",
      "                             'beersLawLab.beersLawScreen.view.solutionControls.concentrationControl.slider.plusButton': ['fired'],\n",
      "                             'beersLawLab.beersLawScreen.view.wavelengthControls.wavelengthSlider.minusButton': ['fired'],\n",
      "                             'beersLawLab.beersLawScreen.view.wavelengthControls.wavelengthSlider.plusButton': ['fired']},\n",
      "             'TRadioButton': {'beersLawLab.beersLawScreen.view.detectorNode.bodyNode.absorbanceRadioButton': ['fired'],\n",
      "                              'beersLawLab.beersLawScreen.view.detectorNode.bodyNode.transmittanceRadioButton': ['fired'],\n",
      "                              'beersLawLab.beersLawScreen.view.wavelengthControls.presetWavelengthRadioButton': ['fired'],\n",
      "                              'beersLawLab.beersLawScreen.view.wavelengthControls.variableWavelengthRadioButton': ['fired']},\n",
      "             'TScreenButton': {'beersLawLab.homeScreen.view.beersLawScreenLargeButton': ['fired'],\n",
      "                               'beersLawLab.homeScreen.view.beersLawScreenSmallButton': ['fired']},\n",
      "             'TSim': {'beersLawLab.sim': ['simStarted']},\n",
      "             'TTandemDragHandler': {'beersLawLab.beersLawScreen.view.cuvetteNode.cuvetteDragHandler': ['dragStarted',\n",
      "                                                                                                       'dragEnded',\n",
      "                                                                                                       'dragged'],\n",
      "                                    'beersLawLab.beersLawScreen.view.detectorNode.probeNode.movableDragHandler': ['dragStarted',\n",
      "                                                                                                                  'dragEnded',\n",
      "                                                                                                                  'dragged'],\n",
      "                                    'beersLawLab.beersLawScreen.view.rulerNode.movableDragHandler': ['dragStarted',\n",
      "                                                                                                     'dragEnded',\n",
      "                                                                                                     'dragged'],\n",
      "                                    'beersLawLab.beersLawScreen.view.solutionControls.concentrationControl.slider.thumb.dragHandler': ['dragStarted',\n",
      "                                                                                                                                       'dragEnded',\n",
      "                                                                                                                                       'dragged'],\n",
      "                                    'beersLawLab.beersLawScreen.view.solutionControls.concentrationControl.slider.track.inputListener': ['dragStarted',\n",
      "                                                                                                                                         'dragEnded',\n",
      "                                                                                                                                         'dragged'],\n",
      "                                    'beersLawLab.beersLawScreen.view.wavelengthControls.wavelengthSlider.thumbInputListener': ['dragStarted',\n",
      "                                                                                                                               'dragEnded',\n",
      "                                                                                                                               'dragged'],\n",
      "                                    'beersLawLab.beersLawScreen.view.wavelengthControls.wavelengthSlider.trackInputListener': ['dragStarted',\n",
      "                                                                                                                               'dragEnded']},\n",
      "             'TTandemText': {'beersLawLab.beersLawScreen.view.detectorNode.bodyNode.valueNode': ['textChanged'],\n",
      "                             'beersLawLab.beersLawScreen.view.wavelengthControls.valueDisplay': ['textChanged'],\n",
      "                             'beersLawLab.concentrationScreen.view.concentrationMeterNode.bodyNode.readoutTextNode': ['textChanged']},\n",
      "             'TToggleButton': {'beersLawLab.beersLawScreen.view.lightNode.button': ['toggled']}})\n"
     ]
    }
   ],
   "source": [
    "cts, evs, pids = set(), set(), set()\n",
    "gen = ((d[\"componentType\"], d[\"event\"], d[\"phetioID\"]) for k in data for k2 in data[k] for d in data[k][k2])\n",
    "d = defaultdict(dict)\n",
    "\n",
    "for c, b, a in gen:\n",
    "    try:\n",
    "        d[c][a] = list(set(d[c][a] + [b]))\n",
    "    except:\n",
    "        d[c][a] = [b]\n",
    "\n",
    "categories = d\n",
    "pprint.pprint(categories)"
   ]
  },
  {
   "cell_type": "code",
   "execution_count": 15,
   "metadata": {},
   "outputs": [
    {
     "data": {
      "text/plain": [
       "[('TTandemDragHandler',\n",
       "  'beersLawLab.beersLawScreen.view.rulerNode.movableDragHandler',\n",
       "  'dragStarted'),\n",
       " ('TTandemDragHandler',\n",
       "  'beersLawLab.beersLawScreen.view.rulerNode.movableDragHandler',\n",
       "  'dragEnded'),\n",
       " ('TTandemDragHandler',\n",
       "  'beersLawLab.beersLawScreen.view.rulerNode.movableDragHandler',\n",
       "  'dragged'),\n",
       " ('TTandemDragHandler',\n",
       "  'beersLawLab.beersLawScreen.view.wavelengthControls.wavelengthSlider.thumbInputListener',\n",
       "  'dragStarted'),\n",
       " ('TTandemDragHandler',\n",
       "  'beersLawLab.beersLawScreen.view.wavelengthControls.wavelengthSlider.thumbInputListener',\n",
       "  'dragEnded'),\n",
       " ('TTandemDragHandler',\n",
       "  'beersLawLab.beersLawScreen.view.wavelengthControls.wavelengthSlider.thumbInputListener',\n",
       "  'dragged'),\n",
       " ('TTandemDragHandler',\n",
       "  'beersLawLab.beersLawScreen.view.solutionControls.concentrationControl.slider.thumb.dragHandler',\n",
       "  'dragStarted'),\n",
       " ('TTandemDragHandler',\n",
       "  'beersLawLab.beersLawScreen.view.solutionControls.concentrationControl.slider.thumb.dragHandler',\n",
       "  'dragEnded'),\n",
       " ('TTandemDragHandler',\n",
       "  'beersLawLab.beersLawScreen.view.solutionControls.concentrationControl.slider.thumb.dragHandler',\n",
       "  'dragged'),\n",
       " ('TTandemDragHandler',\n",
       "  'beersLawLab.beersLawScreen.view.cuvetteNode.cuvetteDragHandler',\n",
       "  'dragStarted'),\n",
       " ('TTandemDragHandler',\n",
       "  'beersLawLab.beersLawScreen.view.cuvetteNode.cuvetteDragHandler',\n",
       "  'dragEnded'),\n",
       " ('TTandemDragHandler',\n",
       "  'beersLawLab.beersLawScreen.view.cuvetteNode.cuvetteDragHandler',\n",
       "  'dragged'),\n",
       " ('TTandemDragHandler',\n",
       "  'beersLawLab.beersLawScreen.view.wavelengthControls.wavelengthSlider.trackInputListener',\n",
       "  'dragStarted'),\n",
       " ('TTandemDragHandler',\n",
       "  'beersLawLab.beersLawScreen.view.wavelengthControls.wavelengthSlider.trackInputListener',\n",
       "  'dragEnded'),\n",
       " ('TTandemDragHandler',\n",
       "  'beersLawLab.beersLawScreen.view.solutionControls.concentrationControl.slider.track.inputListener',\n",
       "  'dragStarted'),\n",
       " ('TTandemDragHandler',\n",
       "  'beersLawLab.beersLawScreen.view.solutionControls.concentrationControl.slider.track.inputListener',\n",
       "  'dragEnded'),\n",
       " ('TTandemDragHandler',\n",
       "  'beersLawLab.beersLawScreen.view.solutionControls.concentrationControl.slider.track.inputListener',\n",
       "  'dragged'),\n",
       " ('TTandemDragHandler',\n",
       "  'beersLawLab.beersLawScreen.view.detectorNode.probeNode.movableDragHandler',\n",
       "  'dragStarted'),\n",
       " ('TTandemDragHandler',\n",
       "  'beersLawLab.beersLawScreen.view.detectorNode.probeNode.movableDragHandler',\n",
       "  'dragEnded'),\n",
       " ('TTandemDragHandler',\n",
       "  'beersLawLab.beersLawScreen.view.detectorNode.probeNode.movableDragHandler',\n",
       "  'dragged'),\n",
       " ('TProperty',\n",
       "  'beersLawLab.beersLawScreen.model.ruler.locationProperty',\n",
       "  'changed'),\n",
       " ('TProperty', 'beersLawLab.beersLawScreen.model.light.onProperty', 'changed'),\n",
       " ('TProperty',\n",
       "  'beersLawLab.beersLawScreen.view.wavelengthControls.variableWavelengthProperty',\n",
       "  'changed'),\n",
       " ('TProperty',\n",
       "  'beersLawLab.beersLawScreen.model.light.wavelengthProperty',\n",
       "  'changed'),\n",
       " ('TProperty',\n",
       "  'beersLawLab.beersLawScreen.model.detector.modeProperty',\n",
       "  'changed'),\n",
       " ('TProperty', 'beersLawLab.beersLawScreen.model.solutionProperty', 'changed'),\n",
       " ('TProperty',\n",
       "  'beersLawLab.beersLawScreen.solutions.potassiumDichromate.concentrationProperty',\n",
       "  'changed'),\n",
       " ('TProperty',\n",
       "  'beersLawLab.beersLawScreen.model.cuvette.widthProperty',\n",
       "  'changed'),\n",
       " ('TProperty',\n",
       "  'beersLawLab.beersLawScreen.solutions.cobaltIINitrate.concentrationProperty',\n",
       "  'changed'),\n",
       " ('TProperty',\n",
       "  'beersLawLab.beersLawScreen.solutions.cobaltChloride.concentrationProperty',\n",
       "  'changed'),\n",
       " ('TProperty',\n",
       "  'beersLawLab.beersLawScreen.solutions.potassiumChromate.concentrationProperty',\n",
       "  'changed'),\n",
       " ('TProperty',\n",
       "  'beersLawLab.beersLawScreen.solutions.nickelIIChloride.concentrationProperty',\n",
       "  'changed'),\n",
       " ('TProperty',\n",
       "  'beersLawLab.beersLawScreen.solutions.potassiumPermanganate.concentrationProperty',\n",
       "  'changed'),\n",
       " ('TProperty',\n",
       "  'beersLawLab.beersLawScreen.solutions.copperSulfate.concentrationProperty',\n",
       "  'changed'),\n",
       " ('TProperty',\n",
       "  'beersLawLab.beersLawScreen.solutions.drinkMix.concentrationProperty',\n",
       "  'changed'),\n",
       " ('TProperty', 'beersLawLab.sim.screenIndexProperty', 'changed'),\n",
       " ('TProperty', 'beersLawLab.sim.showHomeScreenProperty', 'changed'),\n",
       " ('TProperty',\n",
       "  'beersLawLab.beersLawScreen.model.detector.probe.locationProperty',\n",
       "  'changed'),\n",
       " ('TToggleButton',\n",
       "  'beersLawLab.beersLawScreen.view.lightNode.button',\n",
       "  'toggled'),\n",
       " ('TDerivedProperty',\n",
       "  'beersLawLab.beersLawScreen.model.detector.valueProperty',\n",
       "  'changed'),\n",
       " ('TTandemText',\n",
       "  'beersLawLab.beersLawScreen.view.detectorNode.bodyNode.valueNode',\n",
       "  'textChanged'),\n",
       " ('TTandemText',\n",
       "  'beersLawLab.beersLawScreen.view.wavelengthControls.valueDisplay',\n",
       "  'textChanged'),\n",
       " ('TTandemText',\n",
       "  'beersLawLab.concentrationScreen.view.concentrationMeterNode.bodyNode.readoutTextNode',\n",
       "  'textChanged'),\n",
       " ('TRadioButton',\n",
       "  'beersLawLab.beersLawScreen.view.wavelengthControls.variableWavelengthRadioButton',\n",
       "  'fired'),\n",
       " ('TRadioButton',\n",
       "  'beersLawLab.beersLawScreen.view.detectorNode.bodyNode.absorbanceRadioButton',\n",
       "  'fired'),\n",
       " ('TRadioButton',\n",
       "  'beersLawLab.beersLawScreen.view.detectorNode.bodyNode.transmittanceRadioButton',\n",
       "  'fired'),\n",
       " ('TRadioButton',\n",
       "  'beersLawLab.beersLawScreen.view.wavelengthControls.presetWavelengthRadioButton',\n",
       "  'fired'),\n",
       " ('TComboBox',\n",
       "  'beersLawLab.beersLawScreen.view.solutionControls.comboBox',\n",
       "  'popupShown'),\n",
       " ('TComboBox',\n",
       "  'beersLawLab.beersLawScreen.view.solutionControls.comboBox',\n",
       "  'popupHidden'),\n",
       " ('TComboBox',\n",
       "  'beersLawLab.beersLawScreen.view.solutionControls.comboBox',\n",
       "  'fired'),\n",
       " ('TPushButton',\n",
       "  'beersLawLab.beersLawScreen.view.wavelengthControls.wavelengthSlider.plusButton',\n",
       "  'fired'),\n",
       " ('TPushButton',\n",
       "  'beersLawLab.beersLawScreen.view.wavelengthControls.wavelengthSlider.minusButton',\n",
       "  'fired'),\n",
       " ('TPushButton',\n",
       "  'beersLawLab.beersLawScreen.view.solutionControls.concentrationControl.slider.minusButton',\n",
       "  'fired'),\n",
       " ('TPushButton', 'beersLawLab.beersLawScreen.view.resetAllButton', 'fired'),\n",
       " ('TPushButton',\n",
       "  'beersLawLab.beersLawScreen.view.solutionControls.concentrationControl.slider.plusButton',\n",
       "  'fired'),\n",
       " ('TSim', 'beersLawLab.sim', 'simStarted'),\n",
       " ('TScreenButton',\n",
       "  'beersLawLab.homeScreen.view.beersLawScreenSmallButton',\n",
       "  'fired'),\n",
       " ('TScreenButton',\n",
       "  'beersLawLab.homeScreen.view.beersLawScreenLargeButton',\n",
       "  'fired')]"
      ]
     },
     "execution_count": 15,
     "metadata": {},
     "output_type": "execute_result"
    }
   ],
   "source": [
    "gen = ((k, k2, k3) for k in categories for k2 in categories[k] for k3 in categories[k][k2])\n",
    "list(gen)"
   ]
  },
  {
   "cell_type": "code",
   "execution_count": 16,
   "metadata": {},
   "outputs": [
    {
     "name": "stdout",
     "output_type": "stream",
     "text": [
      "{'changed': ['TProperty', 'TDerivedProperty'],\n",
      " 'dragEnded': ['TTandemDragHandler'],\n",
      " 'dragStarted': ['TTandemDragHandler'],\n",
      " 'dragged': ['TTandemDragHandler'],\n",
      " 'fired': ['TPushButton', 'TRadioButton', 'TComboBox', 'TScreenButton'],\n",
      " 'popupHidden': ['TComboBox'],\n",
      " 'popupShown': ['TComboBox'],\n",
      " 'simStarted': ['TSim'],\n",
      " 'textChanged': ['TTandemText'],\n",
      " 'toggled': ['TToggleButton']}\n"
     ]
    }
   ],
   "source": [
    "gen = ((k, k2, k3) for k in categories for k2 in categories[k] for k3 in categories[k][k2])\n",
    "d = {}\n",
    "\n",
    "for cType, _, event in gen:\n",
    "    try:\n",
    "        d[event] = list(set(d[event] + [cType]))\n",
    "    except:\n",
    "        d[event] = [cType]\n",
    "        \n",
    "pprint.pprint(d)"
   ]
  },
  {
   "cell_type": "code",
   "execution_count": 24,
   "metadata": {},
   "outputs": [
    {
     "name": "stdout",
     "output_type": "stream",
     "text": [
      "{'TComboBox': ['beersLawLab.beersLawScreen.view.solutionControls.comboBox'],\n",
      " 'TDerivedProperty': ['beersLawLab.beersLawScreen.model.detector.valueProperty'],\n",
      " 'TProperty': ['beersLawLab.beersLawScreen.solutions.drinkMix.concentrationProperty',\n",
      "               'beersLawLab.sim.screenIndexProperty',\n",
      "               'beersLawLab.beersLawScreen.solutions.potassiumPermanganate.concentrationProperty',\n",
      "               'beersLawLab.beersLawScreen.model.cuvette.widthProperty',\n",
      "               'beersLawLab.beersLawScreen.model.detector.probe.locationProperty',\n",
      "               'beersLawLab.beersLawScreen.solutions.potassiumDichromate.concentrationProperty',\n",
      "               'beersLawLab.beersLawScreen.model.light.onProperty',\n",
      "               'beersLawLab.beersLawScreen.solutions.copperSulfate.concentrationProperty',\n",
      "               'beersLawLab.beersLawScreen.solutions.potassiumChromate.concentrationProperty',\n",
      "               'beersLawLab.beersLawScreen.model.ruler.locationProperty',\n",
      "               'beersLawLab.beersLawScreen.model.solutionProperty',\n",
      "               'beersLawLab.beersLawScreen.model.light.wavelengthProperty',\n",
      "               'beersLawLab.beersLawScreen.solutions.cobaltChloride.concentrationProperty',\n",
      "               'beersLawLab.beersLawScreen.view.wavelengthControls.variableWavelengthProperty',\n",
      "               'beersLawLab.sim.showHomeScreenProperty',\n",
      "               'beersLawLab.beersLawScreen.solutions.cobaltIINitrate.concentrationProperty',\n",
      "               'beersLawLab.beersLawScreen.solutions.nickelIIChloride.concentrationProperty',\n",
      "               'beersLawLab.beersLawScreen.model.detector.modeProperty'],\n",
      " 'TPushButton': ['beersLawLab.beersLawScreen.view.wavelengthControls.wavelengthSlider.minusButton',\n",
      "                 'beersLawLab.beersLawScreen.view.solutionControls.concentrationControl.slider.minusButton',\n",
      "                 'beersLawLab.beersLawScreen.view.resetAllButton',\n",
      "                 'beersLawLab.beersLawScreen.view.wavelengthControls.wavelengthSlider.plusButton',\n",
      "                 'beersLawLab.beersLawScreen.view.solutionControls.concentrationControl.slider.plusButton'],\n",
      " 'TRadioButton': ['beersLawLab.beersLawScreen.view.detectorNode.bodyNode.absorbanceRadioButton',\n",
      "                  'beersLawLab.beersLawScreen.view.wavelengthControls.presetWavelengthRadioButton',\n",
      "                  'beersLawLab.beersLawScreen.view.detectorNode.bodyNode.transmittanceRadioButton',\n",
      "                  'beersLawLab.beersLawScreen.view.wavelengthControls.variableWavelengthRadioButton'],\n",
      " 'TScreenButton': ['beersLawLab.homeScreen.view.beersLawScreenLargeButton',\n",
      "                   'beersLawLab.homeScreen.view.beersLawScreenSmallButton'],\n",
      " 'TSim': ['beersLawLab.sim'],\n",
      " 'TTandemDragHandler': ['beersLawLab.beersLawScreen.view.wavelengthControls.wavelengthSlider.trackInputListener',\n",
      "                        'beersLawLab.beersLawScreen.view.rulerNode.movableDragHandler',\n",
      "                        'beersLawLab.beersLawScreen.view.wavelengthControls.wavelengthSlider.thumbInputListener',\n",
      "                        'beersLawLab.beersLawScreen.view.cuvetteNode.cuvetteDragHandler',\n",
      "                        'beersLawLab.beersLawScreen.view.solutionControls.concentrationControl.slider.thumb.dragHandler',\n",
      "                        'beersLawLab.beersLawScreen.view.detectorNode.probeNode.movableDragHandler',\n",
      "                        'beersLawLab.beersLawScreen.view.solutionControls.concentrationControl.slider.track.inputListener'],\n",
      " 'TTandemText': ['beersLawLab.beersLawScreen.view.wavelengthControls.valueDisplay',\n",
      "                 'beersLawLab.concentrationScreen.view.concentrationMeterNode.bodyNode.readoutTextNode',\n",
      "                 'beersLawLab.beersLawScreen.view.detectorNode.bodyNode.valueNode'],\n",
      " 'TToggleButton': ['beersLawLab.beersLawScreen.view.lightNode.button']}\n"
     ]
    }
   ],
   "source": [
    "gen = ((k, k2, k3) for k in categories for k2 in categories[k] for k3 in categories[k][k2])\n",
    "d = {}\n",
    "\n",
    "for cType, phetioID, _ in gen:\n",
    "    try:\n",
    "        d[cType] = list(set(d[cType] + [phetioID]))\n",
    "    except:\n",
    "        d[cType] = [phetioID]\n",
    "        \n",
    "pprint.pprint(d)"
   ]
  },
  {
   "cell_type": "code",
   "execution_count": 140,
   "metadata": {},
   "outputs": [],
   "source": [
    "# For 'TTandemDragHandler'\n",
    "def getDragHandler(df, pid):\n",
    "    # Filter on property\n",
    "    df = df[df[\"phetioID\"] == pid]\n",
    "    \n",
    "    # Filter on property\n",
    "    df = df[df[\"phetioID\"] == pid]\n",
    "    \n",
    "    # Exit if property absent\n",
    "    if len(df) == 0:\n",
    "        return None\n",
    "    \n",
    "    # Index on time\n",
    "    df.set_index(\"time\", inplace=True)\n",
    "    \n",
    "    # Remove unwanted columns\n",
    "    df = df[\"parameters\"].apply(pd.Series)\n",
    "    \n",
    "    return df[[\"x\", \"y\"]]\n",
    "\n",
    "# For 'TProperty' and 'TDerivedProperty'\n",
    "def getProperty(df, pid):\n",
    "    # Get start time\n",
    "    init_time = df.loc[0][\"time\"]\n",
    "    \n",
    "    # Filter on property\n",
    "    df = df[df[\"phetioID\"] == pid]\n",
    "    \n",
    "    # Exit if property absent\n",
    "    if len(df) == 0:\n",
    "        return None\n",
    "    \n",
    "    # Index on time\n",
    "    df.set_index(\"time\", inplace=True)\n",
    "    \n",
    "    # Remove unwanted columns\n",
    "    df = df[\"parameters\"].apply(pd.Series)\n",
    "    init_val = df.iloc[0][\"oldValue\"]\n",
    "    df = df[\"newValue\"]\n",
    "    \n",
    "    try:\n",
    "        # Add starting value\n",
    "        df.loc[init_time] = init_val\n",
    "    except:\n",
    "        pass\n",
    "        # THIS IS TEMPORARY; THERE IS A BUG HERE\n",
    "    \n",
    "    return df.sort_index()\n",
    "\n",
    "# For 'TToggleButton'\n",
    "def getToggle(df, pid):\n",
    "    return getProperty(df, pid).astype(int)\n",
    "\n",
    "# For 'TPushButton', 'TRadioButton', 'TComboBox', 'TScreenButton', 'TTandemText' and 'TComboBox'\n",
    "# FUTURE : EXTEND TO PLUS/MINUS BUTTONS\n",
    "def getButton(df, pid):\n",
    "    \n",
    "    # Filter on property\n",
    "    df = df[df[\"phetioID\"] == pid]\n",
    "    \n",
    "    # Exit if property absent\n",
    "    if len(df) == 0:\n",
    "        return None\n",
    "    \n",
    "    # Index on time\n",
    "    df.set_index(\"time\", inplace=True)\n",
    "    \n",
    "    # Remove unwanted columns\n",
    "    return df[\"event\"]\n",
    "\n",
    "def processComp(df, cType, pid):\n",
    "    if cType == 'TTandemDragHandler':\n",
    "        return getDragHandler(df, pid)\n",
    "    elif cType == 'TToggleButton':\n",
    "        return getToggle(df, pid)\n",
    "    elif \"Property\" in cType:\n",
    "        return getProperty(df, pid)\n",
    "    else:\n",
    "        return getButton(df, pid)\n",
    "\n",
    "def processLog(df):\n",
    "    uniques = df[[\"componentType\", \"phetioID\"]].drop_duplicates()"
   ]
  },
  {
   "cell_type": "code",
   "execution_count": 113,
   "metadata": {},
   "outputs": [
    {
     "data": {
      "text/html": [
       "<div>\n",
       "<style scoped>\n",
       "    .dataframe tbody tr th:only-of-type {\n",
       "        vertical-align: middle;\n",
       "    }\n",
       "\n",
       "    .dataframe tbody tr th {\n",
       "        vertical-align: top;\n",
       "    }\n",
       "\n",
       "    .dataframe thead th {\n",
       "        text-align: right;\n",
       "    }\n",
       "</style>\n",
       "<table border=\"1\" class=\"dataframe\">\n",
       "  <thead>\n",
       "    <tr style=\"text-align: right;\">\n",
       "      <th></th>\n",
       "      <th>messageIndex</th>\n",
       "      <th>eventType</th>\n",
       "      <th>phetioID</th>\n",
       "      <th>componentType</th>\n",
       "      <th>event</th>\n",
       "      <th>time</th>\n",
       "      <th>parameters</th>\n",
       "    </tr>\n",
       "  </thead>\n",
       "  <tbody>\n",
       "  </tbody>\n",
       "</table>\n",
       "</div>"
      ],
      "text/plain": [
       "Empty DataFrame\n",
       "Columns: [messageIndex, eventType, phetioID, componentType, event, time, parameters]\n",
       "Index: []"
      ]
     },
     "execution_count": 113,
     "metadata": {},
     "output_type": "execute_result"
    }
   ],
   "source": [
    "df = pd.DataFrame(data[\"Gr4\"][2])\n",
    "df[df[\"event\"] == \"model\"]"
   ]
  },
  {
   "cell_type": "code",
   "execution_count": 144,
   "metadata": {},
   "outputs": [],
   "source": [
    "df = pd.DataFrame(data[\"Gr4\"][2])\n",
    "u = df[[\"componentType\", \"phetioID\"]].drop_duplicates()\n",
    "ts = {}\n",
    "\n",
    "for _, row in u.iterrows():\n",
    "    name = row[\"phetioID\"]\n",
    "    ts[name] = processComp(df, row[\"componentType\"], name)"
   ]
  },
  {
   "cell_type": "code",
   "execution_count": 145,
   "metadata": {},
   "outputs": [
    {
     "name": "stdout",
     "output_type": "stream",
     "text": [
      "beersLawLab.beersLawScreen.model.detector.probe.locationProperty\n",
      "beersLawLab.beersLawScreen.view.wavelengthControls.variableWavelengthRadioButton\n",
      "beersLawLab.beersLawScreen.view.wavelengthControls.variableWavelengthProperty\n",
      "beersLawLab.beersLawScreen.view.wavelengthControls.valueDisplay\n",
      "beersLawLab.beersLawScreen.view.detectorNode.bodyNode.valueNode\n",
      "beersLawLab.beersLawScreen.view.solutionControls.comboBox\n",
      "beersLawLab.beersLawScreen.model.solutionProperty\n",
      "beersLawLab.beersLawScreen.model.ruler.locationProperty\n",
      "beersLawLab.beersLawScreen.view.wavelengthControls.presetWavelengthRadioButton\n",
      "beersLawLab.beersLawScreen.model.light.onProperty\n",
      "beersLawLab.beersLawScreen.view.detectorNode.bodyNode.transmittanceRadioButton\n",
      "beersLawLab.beersLawScreen.model.detector.modeProperty\n",
      "beersLawLab.beersLawScreen.view.detectorNode.bodyNode.absorbanceRadioButton\n",
      "beersLawLab.beersLawScreen.view.resetAllButton\n",
      "beersLawLab.beersLawScreen.view.wavelengthControls.wavelengthSlider.minusButton\n",
      "beersLawLab.beersLawScreen.view.wavelengthControls.wavelengthSlider.plusButton\n",
      "beersLawLab.beersLawScreen.view.solutionControls.concentrationControl.slider.minusButton\n",
      "beersLawLab.beersLawScreen.view.solutionControls.concentrationControl.slider.plusButton\n"
     ]
    },
    {
     "data": {
      "image/png": "[encoded data removed]",
      "text/plain": [
       "<Figure size 432x288 with 1 Axes>"
      ]
     },
     "metadata": {
      "needs_background": "light"
     },
     "output_type": "display_data"
    },
    {
     "data": {
      "image/png": "[encoded data removed]",
      "text/plain": [
       "<Figure size 432x288 with 1 Axes>"
      ]
     },
     "metadata": {
      "needs_background": "light"
     },
     "output_type": "display_data"
    },
    {
     "data": {
      "image/png": "[encoded data removed]",
      "text/plain": [
       "<Figure size 432x288 with 1 Axes>"
      ]
     },
     "metadata": {
      "needs_background": "light"
     },
     "output_type": "display_data"
    },
    {
     "data": {
      "image/png": "[encoded data removed]",
      "text/plain": [
       "<Figure size 432x288 with 1 Axes>"
      ]
     },
     "metadata": {
      "needs_background": "light"
     },
     "output_type": "display_data"
    },
    {
     "data": {
      "image/png": "[encoded data removed]",
      "text/plain": [
       "<Figure size 432x288 with 1 Axes>"
      ]
     },
     "metadata": {
      "needs_background": "light"
     },
     "output_type": "display_data"
    },
    {
     "data": {
      "image/png": "[encoded data removed]",
      "text/plain": [
       "<Figure size 432x288 with 1 Axes>"
      ]
     },
     "metadata": {
      "needs_background": "light"
     },
     "output_type": "display_data"
    }
   ],
   "source": [
    "for name, t in ts.items():\n",
    "    try:\n",
    "        t.plot()\n",
    "    except:\n",
    "        print(name)"
   ]
  }
 ],
 "metadata": {
  "kernelspec": {
   "display_name": "wiki-env",
   "language": "python",
   "name": "wiki-env"
  },
  "language_info": {
   "codemirror_mode": {
    "name": "ipython",
    "version": 3
   },
   "file_extension": ".py",
   "mimetype": "text/x-python",
   "name": "python",
   "nbconvert_exporter": "python",
   "pygments_lexer": "ipython3",
   "version": "3.8.5"
  }
 },
 "nbformat": 4,
 "nbformat_minor": 4
}
