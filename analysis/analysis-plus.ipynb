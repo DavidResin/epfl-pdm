{
 "cells": [
  {
   "cell_type": "code",
   "execution_count": 118,
   "metadata": {},
   "outputs": [],
   "source": [
    "import os, json, pprint, re\n",
    "import pandas as pd\n",
    "import pickle as pkl\n",
    "from collections import defaultdict\n",
    "from matplotlib import pyplot as plt"
   ]
  },
  {
   "cell_type": "code",
   "execution_count": 119,
   "metadata": {},
   "outputs": [
    {
     "data": {
      "text/plain": [
       "dict_keys(['David', 'Gr1', 'Gr2', 'Gr3', 'Gr4', 'Gr5'])"
      ]
     },
     "execution_count": 119,
     "metadata": {},
     "output_type": "execute_result"
    }
   ],
   "source": [
    "with open(\"entries.json\", \"r\") as f:\n",
    "    mapping = json.load(f)\n",
    "    \n",
    "with open(\"data.pkl\", \"rb\") as f:\n",
    "    data = pkl.load(f)\n",
    "    \n",
    "data = {k: data[k] for k in data.keys()}\n",
    "data.keys()"
   ]
  },
  {
   "cell_type": "code",
   "execution_count": 120,
   "metadata": {},
   "outputs": [],
   "source": [
    "def get_chunk_types(chunk):\n",
    "    return tuple((\".\".join(e[\"phetioID\"].split(\".\")[2:]), e[\"event\"]) for e in chunk)\n",
    "\n",
    "def flatten(original):\n",
    "    entry = original.copy()\n",
    "    children = entry.get(\"children\")\n",
    "    ret = [entry]\n",
    "    \n",
    "    if children:\n",
    "        entry.pop(\"children\")\n",
    "        \n",
    "        for c in children:\n",
    "            ret += flatten(c)\n",
    "            \n",
    "    return ret\n",
    "\n",
    "def get_chunks_set(data):\n",
    "    chunks = defaultdict(dict)\n",
    "    \n",
    "    for k in data.keys():\n",
    "        for exp in range(3):\n",
    "            chunks[k][exp] = [[s for s in flatten(f)] for f in data[k][exp]]\n",
    "    \n",
    "    return chunks"
   ]
  },
  {
   "cell_type": "code",
   "execution_count": 121,
   "metadata": {},
   "outputs": [],
   "source": [
    "# We flatten all chunks together to run tests on our whole dataset\n",
    "chunks_set = get_chunks_set(data)\n",
    "flat_chunks = [elem for group, tests in chunks_set.items() for idx, test in tests.items() for elem in test]\n",
    "x = set([get_chunk_types(c) for c in flat_chunks])\n",
    "        \n",
    "elem_to_pos = dict()\n",
    "\n",
    "for a in x:\n",
    "    for i, b in enumerate(a):\n",
    "        try:\n",
    "            elem_to_pos[b].add(i)\n",
    "        except:\n",
    "            elem_to_pos[b] = {i}"
   ]
  },
  {
   "cell_type": "code",
   "execution_count": 122,
   "metadata": {},
   "outputs": [
    {
     "data": {
      "text/plain": [
       "{('view.solutionControls.comboBox', 'popupShown'): {0},\n",
       " ('view.resetAllButton', 'fired'): {0},\n",
       " ('view.cuvetteNode.cuvetteDragHandler', 'dragged'): {0},\n",
       " ('view.wavelengthControls.wavelengthSlider.plusButton', 'fired'): {0},\n",
       " ('view.cuvetteNode.cuvetteDragHandler', 'dragEnded'): {0},\n",
       " ('view.cuvetteNode.cuvetteDragHandler', 'dragStarted'): {0},\n",
       " ('view.detectorNode.probeNode.movableDragHandler', 'dragEnded'): {0},\n",
       " ('view.solutionControls.comboBox', 'fired'): {0},\n",
       " ('view.wavelengthControls.wavelengthSlider.minusButton', 'fired'): {0},\n",
       " ('view.wavelengthControls.wavelengthSlider.thumbInputListener',\n",
       "  'dragEnded'): {0},\n",
       " ('view.solutionControls.concentrationControl.slider.thumb.dragHandler',\n",
       "  'dragged'): {0},\n",
       " ('view.solutionControls.concentrationControl.slider.minusButton',\n",
       "  'fired'): {0},\n",
       " ('view.solutionControls.concentrationControl.slider.plusButton',\n",
       "  'fired'): {0},\n",
       " ('view.lightNode.button', 'toggled'): {0},\n",
       " ('view.beersLawScreenLargeButton', 'fired'): {0},\n",
       " ('view.solutionControls.concentrationControl.slider.thumb.dragHandler',\n",
       "  'dragStarted'): {0},\n",
       " ('view.wavelengthControls.wavelengthSlider.thumbInputListener',\n",
       "  'dragged'): {0},\n",
       " ('view.solutionControls.concentrationControl.slider.track.inputListener',\n",
       "  'dragStarted'): {0},\n",
       " ('view.detectorNode.bodyNode.absorbanceRadioButton', 'fired'): {0},\n",
       " ('view.solutionControls.concentrationControl.slider.track.inputListener',\n",
       "  'dragged'): {0},\n",
       " ('view.wavelengthControls.wavelengthSlider.trackInputListener',\n",
       "  'dragEnded'): {0},\n",
       " ('view.rulerNode.movableDragHandler', 'dragEnded'): {0},\n",
       " ('view.wavelengthControls.wavelengthSlider.trackInputListener',\n",
       "  'dragStarted'): {0},\n",
       " ('view.detectorNode.probeNode.movableDragHandler', 'dragged'): {0},\n",
       " ('view.solutionControls.concentrationControl.slider.track.inputListener',\n",
       "  'dragEnded'): {0},\n",
       " ('view.wavelengthControls.presetWavelengthRadioButton', 'fired'): {0},\n",
       " ('view.solutionControls.concentrationControl.slider.thumb.dragHandler',\n",
       "  'dragEnded'): {0},\n",
       " ('view.detectorNode.bodyNode.transmittanceRadioButton', 'fired'): {0},\n",
       " ('view.rulerNode.movableDragHandler', 'dragStarted'): {0},\n",
       " ('view.rulerNode.movableDragHandler', 'dragged'): {0},\n",
       " ('view.wavelengthControls.variableWavelengthRadioButton', 'fired'): {0},\n",
       " ('view.solutionControls.comboBox', 'popupHidden'): {0},\n",
       " ('view.beersLawScreenSmallButton', 'fired'): {0},\n",
       " ('view.wavelengthControls.wavelengthSlider.thumbInputListener',\n",
       "  'dragStarted'): {0},\n",
       " ('view.detectorNode.probeNode.movableDragHandler', 'dragStarted'): {0}}"
      ]
     },
     "execution_count": 122,
     "metadata": {},
     "output_type": "execute_result"
    }
   ],
   "source": [
    "pos_view_0 = {e:f for e,f in elem_to_pos.items() if e[0][:4] == \"view\" and 0 in f}\n",
    "pos_view_0"
   ]
  },
  {
   "cell_type": "code",
   "execution_count": 123,
   "metadata": {},
   "outputs": [
    {
     "data": {
      "text/plain": [
       "{('view.detectorNode.bodyNode.valueNode', 'textChanged'): {2,\n",
       "  3,\n",
       "  4,\n",
       "  5,\n",
       "  6,\n",
       "  7,\n",
       "  8,\n",
       "  9,\n",
       "  10,\n",
       "  13,\n",
       "  14,\n",
       "  17,\n",
       "  20},\n",
       " ('view.wavelengthControls.valueDisplay', 'textChanged'): {2, 3, 4, 5, 8, 15},\n",
       " ('view.wavelengthControls.variableWavelengthProperty', 'changed'): {1,\n",
       "  14,\n",
       "  18,\n",
       "  25},\n",
       " ('view.concentrationMeterNode.bodyNode.readoutTextNode', 'textChanged'): {1}}"
      ]
     },
     "execution_count": 123,
     "metadata": {},
     "output_type": "execute_result"
    }
   ],
   "source": [
    "pos_view_1 = {e:f for e,f in elem_to_pos.items() if e[0][:4] == \"view\" and 0 not in f}\n",
    "pos_view_1"
   ]
  },
  {
   "cell_type": "code",
   "execution_count": 124,
   "metadata": {},
   "outputs": [
    {
     "data": {
      "text/plain": [
       "{('model.solutionProperty', 'changed'): {1, 4, 11},\n",
       " ('model.light.wavelengthProperty', 'changed'): {1, 2, 5, 12},\n",
       " ('model.detector.valueProperty', 'changed'): {2,\n",
       "  3,\n",
       "  4,\n",
       "  5,\n",
       "  6,\n",
       "  7,\n",
       "  8,\n",
       "  9,\n",
       "  12,\n",
       "  13,\n",
       "  16,\n",
       "  19},\n",
       " ('model.light.onProperty', 'changed'): {1, 8, 11, 18},\n",
       " ('model.cuvette.widthProperty', 'changed'): {1, 14, 21},\n",
       " ('model.detector.probe.locationProperty', 'changed'): {1, 11, 15, 22},\n",
       " ('model.detector.modeProperty', 'changed'): {1, 12, 16, 23},\n",
       " ('model.ruler.locationProperty', 'changed'): {1, 13, 17, 24}}"
      ]
     },
     "execution_count": 124,
     "metadata": {},
     "output_type": "execute_result"
    }
   ],
   "source": [
    "pos_model = {e:f for e,f in elem_to_pos.items() if e[0][:5] == \"model\"}\n",
    "pos_model"
   ]
  },
  {
   "cell_type": "code",
   "execution_count": 125,
   "metadata": {},
   "outputs": [
    {
     "data": {
      "text/plain": [
       "{('solutions.drinkMix.concentrationProperty', 'changed'): {1},\n",
       " ('solutions.nickelIIChloride.concentrationProperty', 'changed'): {1, 2, 8},\n",
       " ('solutions.potassiumPermanganate.concentrationProperty', 'changed'): {1,\n",
       "  3,\n",
       "  10},\n",
       " ('solutions.potassiumChromate.concentrationProperty', 'changed'): {1, 7},\n",
       " ('solutions.cobaltIINitrate.concentrationProperty', 'changed'): {1, 2},\n",
       " ('solutions.potassiumDichromate.concentrationProperty', 'changed'): {1, 6},\n",
       " ('solutions.cobaltChloride.concentrationProperty', 'changed'): {1, 5},\n",
       " ('solutions.copperSulfate.concentrationProperty', 'changed'): {1, 9}}"
      ]
     },
     "execution_count": 125,
     "metadata": {},
     "output_type": "execute_result"
    }
   ],
   "source": [
    "pos_solutions = {e:f for e,f in elem_to_pos.items() if e[0][:9] == \"solutions\"}\n",
    "pos_solutions"
   ]
  },
  {
   "cell_type": "code",
   "execution_count": 126,
   "metadata": {},
   "outputs": [
    {
     "data": {
      "text/plain": [
       "{('', 'invoked'): {0},\n",
       " ('', 'simStarted'): {0},\n",
       " ('screenIndexProperty', 'changed'): {1},\n",
       " ('showHomeScreenProperty', 'changed'): {1}}"
      ]
     },
     "execution_count": 126,
     "metadata": {},
     "output_type": "execute_result"
    }
   ],
   "source": [
    "pos_known = set(pos_view_0) | set(pos_view_1) | set(pos_model) | set(pos_solutions)\n",
    "pos_others = {k : elem_to_pos[k] for k in set(elem_to_pos) - set(pos_known)}\n",
    "pos_others"
   ]
  },
  {
   "cell_type": "code",
   "execution_count": 127,
   "metadata": {},
   "outputs": [
    {
     "data": {
      "text/plain": [
       "[('view.resetAllButton', 'fired'),\n",
       " ('view.resetAllButton', 'fired'),\n",
       " ('view.resetAllButton', 'fired'),\n",
       " ('view.wavelengthControls.presetWavelengthRadioButton', 'fired'),\n",
       " ('view.wavelengthControls.presetWavelengthRadioButton', 'fired'),\n",
       " ('view.wavelengthControls.variableWavelengthRadioButton', 'fired'),\n",
       " ('view.wavelengthControls.presetWavelengthRadioButton', 'fired')]"
      ]
     },
     "execution_count": 127,
     "metadata": {},
     "output_type": "execute_result"
    }
   ],
   "source": [
    "# This entry is suspicious. Here we check for which root nodes it\n",
    "# appears and we can deduce that it indeed represents a display.\n",
    "\n",
    "s = 'view.wavelengthControls.variableWavelengthProperty'\n",
    "[y[0] for y in x if s in tuple(zip(*y))[0] and y[0][0] != s]"
   ]
  },
  {
   "cell_type": "code",
   "execution_count": 128,
   "metadata": {},
   "outputs": [
    {
     "data": {
      "text/plain": [
       "[('view.beersLawScreenLargeButton', 'fired'),\n",
       " ('view.beersLawScreenSmallButton', 'fired'),\n",
       " ('view.cuvetteNode.cuvetteDragHandler', 'dragEnded'),\n",
       " ('view.cuvetteNode.cuvetteDragHandler', 'dragStarted'),\n",
       " ('view.cuvetteNode.cuvetteDragHandler', 'dragged'),\n",
       " ('view.detectorNode.bodyNode.absorbanceRadioButton', 'fired'),\n",
       " ('view.detectorNode.bodyNode.transmittanceRadioButton', 'fired'),\n",
       " ('view.detectorNode.probeNode.movableDragHandler', 'dragEnded'),\n",
       " ('view.detectorNode.probeNode.movableDragHandler', 'dragStarted'),\n",
       " ('view.detectorNode.probeNode.movableDragHandler', 'dragged'),\n",
       " ('view.lightNode.button', 'toggled'),\n",
       " ('view.resetAllButton', 'fired'),\n",
       " ('view.rulerNode.movableDragHandler', 'dragEnded'),\n",
       " ('view.rulerNode.movableDragHandler', 'dragStarted'),\n",
       " ('view.rulerNode.movableDragHandler', 'dragged'),\n",
       " ('view.solutionControls.comboBox', 'fired'),\n",
       " ('view.solutionControls.comboBox', 'popupHidden'),\n",
       " ('view.solutionControls.comboBox', 'popupShown'),\n",
       " ('view.solutionControls.concentrationControl.slider.minusButton', 'fired'),\n",
       " ('view.solutionControls.concentrationControl.slider.plusButton', 'fired'),\n",
       " ('view.solutionControls.concentrationControl.slider.thumb.dragHandler',\n",
       "  'dragEnded'),\n",
       " ('view.solutionControls.concentrationControl.slider.thumb.dragHandler',\n",
       "  'dragStarted'),\n",
       " ('view.solutionControls.concentrationControl.slider.thumb.dragHandler',\n",
       "  'dragged'),\n",
       " ('view.solutionControls.concentrationControl.slider.track.inputListener',\n",
       "  'dragEnded'),\n",
       " ('view.solutionControls.concentrationControl.slider.track.inputListener',\n",
       "  'dragStarted'),\n",
       " ('view.solutionControls.concentrationControl.slider.track.inputListener',\n",
       "  'dragged'),\n",
       " ('view.wavelengthControls.presetWavelengthRadioButton', 'fired'),\n",
       " ('view.wavelengthControls.variableWavelengthRadioButton', 'fired'),\n",
       " ('view.wavelengthControls.wavelengthSlider.minusButton', 'fired'),\n",
       " ('view.wavelengthControls.wavelengthSlider.plusButton', 'fired'),\n",
       " ('view.wavelengthControls.wavelengthSlider.thumbInputListener', 'dragEnded'),\n",
       " ('view.wavelengthControls.wavelengthSlider.thumbInputListener',\n",
       "  'dragStarted'),\n",
       " ('view.wavelengthControls.wavelengthSlider.thumbInputListener', 'dragged'),\n",
       " ('view.wavelengthControls.wavelengthSlider.trackInputListener', 'dragEnded'),\n",
       " ('view.wavelengthControls.wavelengthSlider.trackInputListener',\n",
       "  'dragStarted')]"
      ]
     },
     "execution_count": 128,
     "metadata": {},
     "output_type": "execute_result"
    }
   ],
   "source": [
    "sorted(pos_view_0)"
   ]
  }
 ],
 "metadata": {
  "kernelspec": {
   "display_name": "pdm-env",
   "language": "python",
   "name": "pdm-env"
  },
  "language_info": {
   "codemirror_mode": {
    "name": "ipython",
    "version": 3
   },
   "file_extension": ".py",
   "mimetype": "text/x-python",
   "name": "python",
   "nbconvert_exporter": "python",
   "pygments_lexer": "ipython3",
   "version": "3.8.8"
  }
 },
 "nbformat": 4,
 "nbformat_minor": 4
}
